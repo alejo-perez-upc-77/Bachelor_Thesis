{
 "cells": [
  {
   "cell_type": "code",
   "execution_count": 1,
   "metadata": {},
   "outputs": [],
   "source": [
    "import fastai\n",
    "import torch\n",
    "from fastai.vision import *\n",
    "from shutil import copyfile\n",
    "import random\n"
   ]
  },
  {
   "cell_type": "code",
   "execution_count": 2,
   "metadata": {},
   "outputs": [],
   "source": [
    "imgs_CanRuti = []\n",
    "imgs_Clinic = []\n",
    "\n",
    "def catch_dirs_recursively(root_dir,Parameter):\n",
    "    root_dir = os.path.abspath(root_dir)\n",
    "\n",
    "    for item in os.listdir(root_dir):\n",
    "        item_full_path = os.path.join(root_dir, item)\n",
    "        if os.path.isdir(item_full_path):\n",
    "            catch_dirs_recursively(item_full_path, Parameter)\n",
    "        else:\n",
    "            if '.pth' not in item_full_path:\n",
    "                if Parameter == 'A':\n",
    "                    imgs_CanRuti.append(item_full_path)\n",
    "                if Parameter == 'B':\n",
    "                    imgs_Clinic.append(item_full_path)\n",
    "\n",
    "catch_dirs_recursively('/shared/Datasets_Classification/Classification_CanRuti', 'A')\n",
    "catch_dirs_recursively('/shared/Datasets_Classification/Classification_Clinic/train', 'B')"
   ]
  },
  {
   "cell_type": "code",
   "execution_count": 6,
   "metadata": {},
   "outputs": [
    {
     "data": {
      "text/plain": [
       "184"
      ]
     },
     "execution_count": 6,
     "metadata": {},
     "output_type": "execute_result"
    }
   ],
   "source": [
    "len(imgs_CanRuti)"
   ]
  },
  {
   "cell_type": "code",
   "execution_count": 7,
   "metadata": {},
   "outputs": [
    {
     "data": {
      "text/plain": [
       "5291"
      ]
     },
     "execution_count": 7,
     "metadata": {},
     "output_type": "execute_result"
    }
   ],
   "source": [
    "len(imgs_Clinic)"
   ]
  },
  {
   "cell_type": "code",
   "execution_count": 8,
   "metadata": {},
   "outputs": [],
   "source": [
    "CanRuti_Variant = [i for i in imgs_CanRuti if '/VARIANT_LYMPHOCYTE/' in i ] \n",
    "Clinic_Variant = [i for i in imgs_Clinic if '/VARIANT_LYMPHOCYTE/' in i ] "
   ]
  },
  {
   "cell_type": "code",
   "execution_count": 9,
   "metadata": {},
   "outputs": [
    {
     "data": {
      "text/plain": [
       "552"
      ]
     },
     "execution_count": 9,
     "metadata": {},
     "output_type": "execute_result"
    }
   ],
   "source": [
    "len(Clinic_Variant)"
   ]
  },
  {
   "cell_type": "code",
   "execution_count": 10,
   "metadata": {},
   "outputs": [
    {
     "data": {
      "text/plain": [
       "57"
      ]
     },
     "execution_count": 10,
     "metadata": {},
     "output_type": "execute_result"
    }
   ],
   "source": [
    "len(CanRuti_Variant)"
   ]
  },
  {
   "cell_type": "code",
   "execution_count": 11,
   "metadata": {},
   "outputs": [],
   "source": [
    "random.shuffle(Clinic_Variant)"
   ]
  },
  {
   "cell_type": "code",
   "execution_count": 23,
   "metadata": {},
   "outputs": [],
   "source": [
    "def img_copy(lst, train_size, Parameter):\n",
    "    count = 2900\n",
    "    for path in lst:\n",
    "        filename = os.path.basename(path)\n",
    "        if count < train_size:\n",
    "            if Parameter == 'A':\n",
    "                copyfile(path, os.path.join(\"/shared/Datasets_Gan/CanRuti_Clinic-Variant/trainA\", filename))  \n",
    "            if Parameter == 'B':\n",
    "                copyfile(path, os.path.join(\"/shared/Datasets_Gan/CanRuti_Clinic-Variant/trainB\", filename))\n",
    "\n",
    "            count += 1\n",
    "        \n",
    "        else:\n",
    "            if Parameter == 'A':\n",
    "                copyfile(path, os.path.join(\"/shared/Datasets_Gan/CanRuti_Clinic-Variant/testA\", filename))  \n",
    "            if Parameter == 'B':\n",
    "                copyfile(path, os.path.join(\"/shared/Datasets_Gan/CanRuti_Clinic-Variant/testB\", filename))\n",
    "            count += 1 \n",
    "      "
   ]
  },
  {
   "cell_type": "code",
   "execution_count": 24,
   "metadata": {},
   "outputs": [],
   "source": [
    "img_copy(CanRuti_Variant, 600, 'A')"
   ]
  },
  {
   "cell_type": "code",
   "execution_count": 25,
   "metadata": {},
   "outputs": [],
   "source": [
    "img_copy(Clinic_Variant, 2800, 'B')"
   ]
  },
  {
   "cell_type": "code",
   "execution_count": 29,
   "metadata": {},
   "outputs": [],
   "source": [
    "train_clinic = os.listdir(\"/shared/Datasets_Gan/CanRuti_Clinic-Variant/trainB\")\n",
    "test_clinic = os.listdir('/shared/Datasets_Gan/CanRuti_Clinic-Variant/testB')"
   ]
  },
  {
   "cell_type": "code",
   "execution_count": 30,
   "metadata": {},
   "outputs": [
    {
     "data": {
      "text/plain": [
       "552"
      ]
     },
     "execution_count": 30,
     "metadata": {},
     "output_type": "execute_result"
    }
   ],
   "source": [
    "len(train_clinic)"
   ]
  },
  {
   "cell_type": "code",
   "execution_count": 31,
   "metadata": {},
   "outputs": [
    {
     "data": {
      "text/plain": [
       "552"
      ]
     },
     "execution_count": 31,
     "metadata": {},
     "output_type": "execute_result"
    }
   ],
   "source": [
    "len(test_clinic)"
   ]
  },
  {
   "cell_type": "code",
   "execution_count": null,
   "metadata": {},
   "outputs": [],
   "source": []
  }
 ],
 "metadata": {
  "kernelspec": {
   "display_name": "Python 3",
   "language": "python",
   "name": "python3"
  },
  "language_info": {
   "codemirror_mode": {
    "name": "ipython",
    "version": 3
   },
   "file_extension": ".py",
   "mimetype": "text/x-python",
   "name": "python",
   "nbconvert_exporter": "python",
   "pygments_lexer": "ipython3",
   "version": "3.6.8"
  }
 },
 "nbformat": 4,
 "nbformat_minor": 2
}
