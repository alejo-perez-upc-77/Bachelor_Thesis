{
 "cells": [
  {
   "cell_type": "code",
   "execution_count": 1,
   "metadata": {},
   "outputs": [],
   "source": [
    "import fastai\n",
    "import torch\n",
    "from fastai.vision import *\n",
    "from shutil import copyfile\n",
    "import random\n"
   ]
  },
  {
   "cell_type": "code",
   "execution_count": 3,
   "metadata": {},
   "outputs": [],
   "source": [
    "imgs_CanRuti = []\n",
    "imgs_Clinic = []\n",
    "\n",
    "def catch_dirs_recursively(root_dir,Parameter):\n",
    "    root_dir = os.path.abspath(root_dir)\n",
    "\n",
    "    for item in os.listdir(root_dir):\n",
    "        item_full_path = os.path.join(root_dir, item)\n",
    "        if os.path.isdir(item_full_path):\n",
    "            catch_dirs_recursively(item_full_path, Parameter)\n",
    "        else:\n",
    "            if '.pth' not in item_full_path:\n",
    "                if Parameter == 'A':\n",
    "                    imgs_CanRuti.append(item_full_path)\n",
    "                if Parameter == 'B':\n",
    "                    imgs_Clinic.append(item_full_path)\n",
    "\n",
    "catch_dirs_recursively('/shared/Datasets_Classification/Classification_CanRuti', 'A')\n",
    "catch_dirs_recursively('/shared/Datasets_Classification/Classification_Clinic/train', 'B')"
   ]
  },
  {
   "cell_type": "code",
   "execution_count": 9,
   "metadata": {},
   "outputs": [
    {
     "data": {
      "text/plain": [
       "184"
      ]
     },
     "execution_count": 9,
     "metadata": {},
     "output_type": "execute_result"
    }
   ],
   "source": [
    "len(imgs_CanRuti)"
   ]
  },
  {
   "cell_type": "code",
   "execution_count": 37,
   "metadata": {},
   "outputs": [
    {
     "data": {
      "text/plain": [
       "5291"
      ]
     },
     "execution_count": 37,
     "metadata": {},
     "output_type": "execute_result"
    }
   ],
   "source": [
    "len(imgs_Clinic)"
   ]
  },
  {
   "cell_type": "code",
   "execution_count": 30,
   "metadata": {},
   "outputs": [],
   "source": [
    "random.shuffle(imgs_Clinic)"
   ]
  },
  {
   "cell_type": "code",
   "execution_count": 65,
   "metadata": {},
   "outputs": [],
   "source": [
    "def img_copy(lst, train_size, Parameter):\n",
    "    count = 0\n",
    "    for path in lst:\n",
    "        filename = os.path.basename(path)\n",
    "        if count < train_size:\n",
    "            if Parameter == 'A':\n",
    "                copyfile(path, os.path.join(\"/shared/Datasets_Gan/CanRuti_Clinic_NoNormal/trainA\", filename))  \n",
    "            if Parameter == 'B':\n",
    "                copyfile(path, os.path.join(\"/shared/Datasets_Gan/CanRuti_Clinic_NoNormal/trainB\", filename))\n",
    "\n",
    "            count += 1\n",
    "        \n",
    "        else:\n",
    "            if Parameter == 'A':\n",
    "                copyfile(path, os.path.join(\"/shared/Datasets_Gan/CanRuti_Clinic_NoNormal/testA\", filename))  \n",
    "            if Parameter == 'B':\n",
    "                copyfile(path, os.path.join(\"/shared/Datasets_Gan/CanRuti_Clinic_NoNormal/testB\", filename))\n",
    "            count += 1 \n",
    "      "
   ]
  },
  {
   "cell_type": "code",
   "execution_count": 50,
   "metadata": {},
   "outputs": [],
   "source": [
    "img_copy(imgs_CanRuti, 500, 'A')"
   ]
  },
  {
   "cell_type": "code",
   "execution_count": null,
   "metadata": {},
   "outputs": [],
   "source": [
    "img_copy(imgs_Clinic, 3000, 'B')"
   ]
  },
  {
   "cell_type": "code",
   "execution_count": 53,
   "metadata": {},
   "outputs": [],
   "source": [
    "train_clinic = os.listdir(\"/shared/Datasets_Gan/CanRuti_Clinic_NoNormal/trainB\")\n",
    "test_clinic = os.listdir('/shared/Datasets_Gan/CanRuti_Clinic_NoNormal/testB')"
   ]
  },
  {
   "cell_type": "code",
   "execution_count": 61,
   "metadata": {},
   "outputs": [
    {
     "data": {
      "text/plain": [
       "3001"
      ]
     },
     "execution_count": 61,
     "metadata": {},
     "output_type": "execute_result"
    }
   ],
   "source": [
    "len(train_clinic)"
   ]
  },
  {
   "cell_type": "code",
   "execution_count": 62,
   "metadata": {},
   "outputs": [
    {
     "data": {
      "text/plain": [
       "2292"
      ]
     },
     "execution_count": 62,
     "metadata": {},
     "output_type": "execute_result"
    }
   ],
   "source": [
    "len(test_clinic)"
   ]
  },
  {
   "cell_type": "code",
   "execution_count": 64,
   "metadata": {},
   "outputs": [
    {
     "data": {
      "text/plain": [
       "['/shared/Datasets_Classification/Classification_CanRuti/BLAST/BL_10600573.jpg',\n",
       " '/shared/Datasets_Classification/Classification_CanRuti/BLAST/BL_10600609.jpg',\n",
       " '/shared/Datasets_Classification/Classification_CanRuti/BLAST/BL_10600675.jpg',\n",
       " '/shared/Datasets_Classification/Classification_CanRuti/BLAST/BL_13076127.jpg',\n",
       " '/shared/Datasets_Classification/Classification_CanRuti/BLAST/BL_12630836.jpg',\n",
       " '/shared/Datasets_Classification/Classification_CanRuti/BLAST/BL_13076046.jpg',\n",
       " '/shared/Datasets_Classification/Classification_CanRuti/BLAST/BL_13076153.jpg',\n",
       " '/shared/Datasets_Classification/Classification_CanRuti/BLAST/BL_10600587.jpg',\n",
       " '/shared/Datasets_Classification/Classification_CanRuti/BLAST/BL_10600634.jpg',\n",
       " '/shared/Datasets_Classification/Classification_CanRuti/BLAST/BL_12630955.jpg',\n",
       " '/shared/Datasets_Classification/Classification_CanRuti/BLAST/BL_10600730.jpg',\n",
       " '/shared/Datasets_Classification/Classification_CanRuti/BLAST/BL_10600601.jpg',\n",
       " '/shared/Datasets_Classification/Classification_CanRuti/BLAST/BL_12630919.jpg',\n",
       " '/shared/Datasets_Classification/Classification_CanRuti/BLAST/BL_13076154.jpg',\n",
       " '/shared/Datasets_Classification/Classification_CanRuti/BLAST/BL_12630901.jpg',\n",
       " '/shared/Datasets_Classification/Classification_CanRuti/BLAST/BL_13076145.jpg',\n",
       " '/shared/Datasets_Classification/Classification_CanRuti/BLAST/BL_12630943.jpg',\n",
       " '/shared/Datasets_Classification/Classification_CanRuti/BLAST/BL_10600682.jpg',\n",
       " '/shared/Datasets_Classification/Classification_CanRuti/BLAST/BL_12630916.jpg',\n",
       " '/shared/Datasets_Classification/Classification_CanRuti/BLAST/BL_13076099.jpg',\n",
       " '/shared/Datasets_Classification/Classification_CanRuti/BLAST/BL_12630938.jpg',\n",
       " '/shared/Datasets_Classification/Classification_CanRuti/BLAST/BL_10600744.jpg',\n",
       " '/shared/Datasets_Classification/Classification_CanRuti/BLAST/BL_12630951.jpg',\n",
       " '/shared/Datasets_Classification/Classification_CanRuti/BLAST/BL_12630948.jpg',\n",
       " '/shared/Datasets_Classification/Classification_CanRuti/BLAST/BL_13076110.jpg',\n",
       " '/shared/Datasets_Classification/Classification_CanRuti/BLAST/BL_10600615.jpg',\n",
       " '/shared/Datasets_Classification/Classification_CanRuti/BLAST/BL_12630932.jpg',\n",
       " '/shared/Datasets_Classification/Classification_CanRuti/BLAST/BL_13076059.jpg',\n",
       " '/shared/Datasets_Classification/Classification_CanRuti/BLAST/BL_10600733.jpg',\n",
       " '/shared/Datasets_Classification/Classification_CanRuti/BLAST/BL_13076073.jpg',\n",
       " '/shared/Datasets_Classification/Classification_CanRuti/BLAST/BL_13076084.jpg',\n",
       " '/shared/Datasets_Classification/Classification_CanRuti/BLAST/BL_13076087.jpg',\n",
       " '/shared/Datasets_Classification/Classification_CanRuti/BLAST/BL_12630910.jpg',\n",
       " '/shared/Datasets_Classification/Classification_CanRuti/BLAST/BL_12630944.jpg',\n",
       " '/shared/Datasets_Classification/Classification_CanRuti/BLAST/BL_10600719.jpg',\n",
       " '/shared/Datasets_Classification/Classification_CanRuti/BLAST/BL_13076134.jpg',\n",
       " '/shared/Datasets_Classification/Classification_CanRuti/BLAST/BL_13076155.jpg',\n",
       " '/shared/Datasets_Classification/Classification_CanRuti/BLAST/BL_12630990.jpg',\n",
       " '/shared/Datasets_Classification/Classification_CanRuti/BLAST/BL_10600683.jpg',\n",
       " '/shared/Datasets_Classification/Classification_CanRuti/BLAST/BL_10600676.jpg',\n",
       " '/shared/Datasets_Classification/Classification_CanRuti/BLAST/BL_12630995.jpg',\n",
       " '/shared/Datasets_Classification/Classification_CanRuti/BLAST/BL_12630962.jpg',\n",
       " '/shared/Datasets_Classification/Classification_CanRuti/BLAST/BL_12630863.jpg',\n",
       " '/shared/Datasets_Classification/Classification_CanRuti/BLAST/BL_13076124.jpg',\n",
       " '/shared/Datasets_Classification/Classification_CanRuti/BLAST/BL_13076142.jpg',\n",
       " '/shared/Datasets_Classification/Classification_CanRuti/BLAST/BL_10600654.jpg',\n",
       " '/shared/Datasets_Classification/Classification_CanRuti/BLAST/BL_10600685.jpg',\n",
       " '/shared/Datasets_Classification/Classification_CanRuti/BLAST/BL_10600731.jpg',\n",
       " '/shared/Datasets_Classification/Classification_CanRuti/BLAST/BL_10600656.jpg',\n",
       " '/shared/Datasets_Classification/Classification_CanRuti/BLAST/BL_13076077.jpg',\n",
       " '/shared/Datasets_Classification/Classification_CanRuti/BLAST/BL_12630989.jpg',\n",
       " '/shared/Datasets_Classification/Classification_CanRuti/BLAST/BL_13076102.jpg',\n",
       " '/shared/Datasets_Classification/Classification_CanRuti/BLAST/BL_10600698.jpg',\n",
       " '/shared/Datasets_Classification/Classification_CanRuti/BLAST/BL_12630848.jpg',\n",
       " '/shared/Datasets_Classification/Classification_CanRuti/BLAST/BL_10600671.jpg',\n",
       " '/shared/Datasets_Classification/Classification_CanRuti/BLAST/BL_12630894.jpg',\n",
       " '/shared/Datasets_Classification/Classification_CanRuti/BLAST/BL_13076117.jpg',\n",
       " '/shared/Datasets_Classification/Classification_CanRuti/BLAST/BL_12630985.jpg',\n",
       " '/shared/Datasets_Classification/Classification_CanRuti/BLAST/BL_10600611.jpg',\n",
       " '/shared/Datasets_Classification/Classification_CanRuti/BLAST/BL_13076041.jpg',\n",
       " '/shared/Datasets_Classification/Classification_CanRuti/BLAST/BL_12630876.jpg',\n",
       " '/shared/Datasets_Classification/Classification_CanRuti/BLAST/BL_12630890.jpg',\n",
       " '/shared/Datasets_Classification/Classification_CanRuti/BLAST/BL_13076056.jpg',\n",
       " '/shared/Datasets_Classification/Classification_CanRuti/BLAST/BL_12630927.jpg',\n",
       " '/shared/Datasets_Classification/Classification_CanRuti/BLAST/BL_12630849.jpg',\n",
       " '/shared/Datasets_Classification/Classification_CanRuti/BLAST/BL_12630967.jpg',\n",
       " '/shared/Datasets_Classification/Classification_CanRuti/BLAST/BL_12630942.jpg',\n",
       " '/shared/Datasets_Classification/Classification_CanRuti/BLAST/BL_12630854.jpg',\n",
       " '/shared/Datasets_Classification/Classification_CanRuti/BLAST/BL_10600666.jpg',\n",
       " '/shared/Datasets_Classification/Classification_CanRuti/BLAST/BL_10600620.jpg',\n",
       " '/shared/Datasets_Classification/Classification_CanRuti/BLAST/BL_12630921.jpg',\n",
       " '/shared/Datasets_Classification/Classification_CanRuti/BLAST/BL_12630842.jpg',\n",
       " '/shared/Datasets_Classification/Classification_CanRuti/BLAST/BL_10600563.jpg',\n",
       " '/shared/Datasets_Classification/Classification_CanRuti/BLAST/BL_10600586.jpg',\n",
       " '/shared/Datasets_Classification/Classification_CanRuti/BLAST/BL_10600633.jpg',\n",
       " '/shared/Datasets_Classification/Classification_CanRuti/BLAST/BL_13076158.jpg',\n",
       " '/shared/Datasets_Classification/Classification_CanRuti/BLAST/BL_10600643.jpg',\n",
       " '/shared/Datasets_Classification/Classification_CanRuti/BLAST/BL_10600661.jpg',\n",
       " '/shared/Datasets_Classification/Classification_CanRuti/BLAST/BL_12630974.jpg',\n",
       " '/shared/Datasets_Classification/Classification_CanRuti/BLAST/BL_10600709.jpg',\n",
       " '/shared/Datasets_Classification/Classification_CanRuti/VARIANT_LYMPHOCYTE/LY_13130834.jpg',\n",
       " '/shared/Datasets_Classification/Classification_CanRuti/VARIANT_LYMPHOCYTE/LY_13099510.jpg',\n",
       " '/shared/Datasets_Classification/Classification_CanRuti/VARIANT_LYMPHOCYTE/LY_13113783.jpg',\n",
       " '/shared/Datasets_Classification/Classification_CanRuti/VARIANT_LYMPHOCYTE/LY_13090258.jpg',\n",
       " '/shared/Datasets_Classification/Classification_CanRuti/VARIANT_LYMPHOCYTE/LY_13130822.jpg',\n",
       " '/shared/Datasets_Classification/Classification_CanRuti/VARIANT_LYMPHOCYTE/LY_13099425.jpg',\n",
       " '/shared/Datasets_Classification/Classification_CanRuti/VARIANT_LYMPHOCYTE/LY_13099452.jpg',\n",
       " '/shared/Datasets_Classification/Classification_CanRuti/VARIANT_LYMPHOCYTE/LY_13099412.jpg',\n",
       " '/shared/Datasets_Classification/Classification_CanRuti/VARIANT_LYMPHOCYTE/LY_13113790.jpg',\n",
       " '/shared/Datasets_Classification/Classification_CanRuti/VARIANT_LYMPHOCYTE/LY_13099368.jpg',\n",
       " '/shared/Datasets_Classification/Classification_CanRuti/VARIANT_LYMPHOCYTE/LY_13130852.jpg',\n",
       " '/shared/Datasets_Classification/Classification_CanRuti/VARIANT_LYMPHOCYTE/LY_13099490.jpg',\n",
       " '/shared/Datasets_Classification/Classification_CanRuti/VARIANT_LYMPHOCYTE/LY_13113922.jpg',\n",
       " '/shared/Datasets_Classification/Classification_CanRuti/VARIANT_LYMPHOCYTE/LY_13099461.jpg',\n",
       " '/shared/Datasets_Classification/Classification_CanRuti/VARIANT_LYMPHOCYTE/LY_13099366.jpg',\n",
       " '/shared/Datasets_Classification/Classification_CanRuti/VARIANT_LYMPHOCYTE/LY_13113772.jpg',\n",
       " '/shared/Datasets_Classification/Classification_CanRuti/VARIANT_LYMPHOCYTE/LY_13090282.jpg',\n",
       " '/shared/Datasets_Classification/Classification_CanRuti/VARIANT_LYMPHOCYTE/LY_13090309.jpg',\n",
       " '/shared/Datasets_Classification/Classification_CanRuti/VARIANT_LYMPHOCYTE/LY_13090197.jpg',\n",
       " '/shared/Datasets_Classification/Classification_CanRuti/VARIANT_LYMPHOCYTE/LY_13113844.jpg',\n",
       " '/shared/Datasets_Classification/Classification_CanRuti/VARIANT_LYMPHOCYTE/LY_13090296.jpg',\n",
       " '/shared/Datasets_Classification/Classification_CanRuti/VARIANT_LYMPHOCYTE/LY_13130824.jpg',\n",
       " '/shared/Datasets_Classification/Classification_CanRuti/VARIANT_LYMPHOCYTE/LY_13113769.jpg',\n",
       " '/shared/Datasets_Classification/Classification_CanRuti/VARIANT_LYMPHOCYTE/LY_13090263.jpg',\n",
       " '/shared/Datasets_Classification/Classification_CanRuti/VARIANT_LYMPHOCYTE/LY_13099370.jpg',\n",
       " '/shared/Datasets_Classification/Classification_CanRuti/VARIANT_LYMPHOCYTE/LY_13099436.jpg',\n",
       " '/shared/Datasets_Classification/Classification_CanRuti/VARIANT_LYMPHOCYTE/LY_13113843.jpg',\n",
       " '/shared/Datasets_Classification/Classification_CanRuti/VARIANT_LYMPHOCYTE/LY_13113762.jpg',\n",
       " '/shared/Datasets_Classification/Classification_CanRuti/VARIANT_LYMPHOCYTE/LY_13090320.jpg',\n",
       " '/shared/Datasets_Classification/Classification_CanRuti/VARIANT_LYMPHOCYTE/LY_13090261.jpg',\n",
       " '/shared/Datasets_Classification/Classification_CanRuti/VARIANT_LYMPHOCYTE/LY_13099447.jpg',\n",
       " '/shared/Datasets_Classification/Classification_CanRuti/VARIANT_LYMPHOCYTE/LY_13130865.jpg',\n",
       " '/shared/Datasets_Classification/Classification_CanRuti/VARIANT_LYMPHOCYTE/LY_13130924.jpg',\n",
       " '/shared/Datasets_Classification/Classification_CanRuti/VARIANT_LYMPHOCYTE/LY_13099505.jpg',\n",
       " '/shared/Datasets_Classification/Classification_CanRuti/VARIANT_LYMPHOCYTE/LY_13130923.jpg',\n",
       " '/shared/Datasets_Classification/Classification_CanRuti/VARIANT_LYMPHOCYTE/LY_13113837.jpg',\n",
       " '/shared/Datasets_Classification/Classification_CanRuti/VARIANT_LYMPHOCYTE/LY_13130897.jpg',\n",
       " '/shared/Datasets_Classification/Classification_CanRuti/VARIANT_LYMPHOCYTE/LY_13130820.jpg',\n",
       " '/shared/Datasets_Classification/Classification_CanRuti/VARIANT_LYMPHOCYTE/LY_13090196.jpg',\n",
       " '/shared/Datasets_Classification/Classification_CanRuti/VARIANT_LYMPHOCYTE/LY_13130913.jpg',\n",
       " '/shared/Datasets_Classification/Classification_CanRuti/VARIANT_LYMPHOCYTE/LY_13113849.jpg',\n",
       " '/shared/Datasets_Classification/Classification_CanRuti/VARIANT_LYMPHOCYTE/LY_13113767.jpg',\n",
       " '/shared/Datasets_Classification/Classification_CanRuti/VARIANT_LYMPHOCYTE/LY_13090294.jpg',\n",
       " '/shared/Datasets_Classification/Classification_CanRuti/VARIANT_LYMPHOCYTE/LY_13090291.jpg',\n",
       " '/shared/Datasets_Classification/Classification_CanRuti/VARIANT_LYMPHOCYTE/LY_13099503.jpg',\n",
       " '/shared/Datasets_Classification/Classification_CanRuti/VARIANT_LYMPHOCYTE/LY_13130918.jpg',\n",
       " '/shared/Datasets_Classification/Classification_CanRuti/VARIANT_LYMPHOCYTE/LY_13090228.jpg',\n",
       " '/shared/Datasets_Classification/Classification_CanRuti/VARIANT_LYMPHOCYTE/LY_13113823.jpg',\n",
       " '/shared/Datasets_Classification/Classification_CanRuti/VARIANT_LYMPHOCYTE/LY_13099375.jpg',\n",
       " '/shared/Datasets_Classification/Classification_CanRuti/VARIANT_LYMPHOCYTE/LY_13099501.jpg',\n",
       " '/shared/Datasets_Classification/Classification_CanRuti/VARIANT_LYMPHOCYTE/LY_13130831.jpg',\n",
       " '/shared/Datasets_Classification/Classification_CanRuti/VARIANT_LYMPHOCYTE/LY_13130915.jpg',\n",
       " '/shared/Datasets_Classification/Classification_CanRuti/VARIANT_LYMPHOCYTE/LY_13090280.jpg',\n",
       " '/shared/Datasets_Classification/Classification_CanRuti/VARIANT_LYMPHOCYTE/LY_13130906.jpg',\n",
       " '/shared/Datasets_Classification/Classification_CanRuti/VARIANT_LYMPHOCYTE/LY_13090246.jpg',\n",
       " '/shared/Datasets_Classification/Classification_CanRuti/VARIANT_LYMPHOCYTE/LY_13130802.jpg',\n",
       " '/shared/Datasets_Classification/Classification_CanRuti/VARIANT_LYMPHOCYTE/LY_13099393.jpg',\n",
       " '/shared/Datasets_Classification/Classification_CanRuti/ATYPICAL_LYMPHOCYTE/LY_13089369.jpg',\n",
       " '/shared/Datasets_Classification/Classification_CanRuti/ATYPICAL_LYMPHOCYTE/LY_13089339.jpg',\n",
       " '/shared/Datasets_Classification/Classification_CanRuti/ATYPICAL_LYMPHOCYTE/LY_13089431.jpg',\n",
       " '/shared/Datasets_Classification/Classification_CanRuti/ATYPICAL_LYMPHOCYTE/LY_13089393.jpg',\n",
       " '/shared/Datasets_Classification/Classification_CanRuti/ATYPICAL_LYMPHOCYTE/LY_13089448.jpg',\n",
       " '/shared/Datasets_Classification/Classification_CanRuti/ATYPICAL_LYMPHOCYTE/LY_13103741.jpg',\n",
       " '/shared/Datasets_Classification/Classification_CanRuti/ATYPICAL_LYMPHOCYTE/LY_13103988.jpg',\n",
       " '/shared/Datasets_Classification/Classification_CanRuti/ATYPICAL_LYMPHOCYTE/LY_13166722.jpg',\n",
       " '/shared/Datasets_Classification/Classification_CanRuti/ATYPICAL_LYMPHOCYTE/LY_13103931.jpg',\n",
       " '/shared/Datasets_Classification/Classification_CanRuti/ATYPICAL_LYMPHOCYTE/LY_13166669.jpg',\n",
       " '/shared/Datasets_Classification/Classification_CanRuti/ATYPICAL_LYMPHOCYTE/LY_13166736.jpg',\n",
       " '/shared/Datasets_Classification/Classification_CanRuti/ATYPICAL_LYMPHOCYTE/LY_13166768.jpg',\n",
       " '/shared/Datasets_Classification/Classification_CanRuti/ATYPICAL_LYMPHOCYTE/LY_13166789.jpg',\n",
       " '/shared/Datasets_Classification/Classification_CanRuti/ATYPICAL_LYMPHOCYTE/LY_13103928.jpg',\n",
       " '/shared/Datasets_Classification/Classification_CanRuti/ATYPICAL_LYMPHOCYTE/LY_13103989.jpg',\n",
       " '/shared/Datasets_Classification/Classification_CanRuti/ATYPICAL_LYMPHOCYTE/LY_13089343.jpg',\n",
       " '/shared/Datasets_Classification/Classification_CanRuti/ATYPICAL_LYMPHOCYTE/LY_13166835.jpg',\n",
       " '/shared/Datasets_Classification/Classification_CanRuti/ATYPICAL_LYMPHOCYTE/LY_13103940.jpg',\n",
       " '/shared/Datasets_Classification/Classification_CanRuti/ATYPICAL_LYMPHOCYTE/LY_13103960.jpg',\n",
       " '/shared/Datasets_Classification/Classification_CanRuti/ATYPICAL_LYMPHOCYTE/LY_13166758.jpg',\n",
       " '/shared/Datasets_Classification/Classification_CanRuti/ATYPICAL_LYMPHOCYTE/LY_13089404.jpg',\n",
       " '/shared/Datasets_Classification/Classification_CanRuti/ATYPICAL_LYMPHOCYTE/LY_13103797.jpg',\n",
       " '/shared/Datasets_Classification/Classification_CanRuti/ATYPICAL_LYMPHOCYTE/LY_13103819.jpg',\n",
       " '/shared/Datasets_Classification/Classification_CanRuti/ATYPICAL_LYMPHOCYTE/LY_13166772.jpg',\n",
       " '/shared/Datasets_Classification/Classification_CanRuti/ATYPICAL_LYMPHOCYTE/LY_13089352.jpg',\n",
       " '/shared/Datasets_Classification/Classification_CanRuti/ATYPICAL_LYMPHOCYTE/LY_13166921.jpg',\n",
       " '/shared/Datasets_Classification/Classification_CanRuti/ATYPICAL_LYMPHOCYTE/LY_13103744.jpg',\n",
       " '/shared/Datasets_Classification/Classification_CanRuti/ATYPICAL_LYMPHOCYTE/LY_13103763.jpg',\n",
       " '/shared/Datasets_Classification/Classification_CanRuti/ATYPICAL_LYMPHOCYTE/LY_13089418.jpg',\n",
       " '/shared/Datasets_Classification/Classification_CanRuti/ATYPICAL_LYMPHOCYTE/LY_13089421.jpg',\n",
       " '/shared/Datasets_Classification/Classification_CanRuti/ATYPICAL_LYMPHOCYTE/LY_13103998.jpg',\n",
       " '/shared/Datasets_Classification/Classification_CanRuti/ATYPICAL_LYMPHOCYTE/LY_13089353.jpg',\n",
       " '/shared/Datasets_Classification/Classification_CanRuti/ATYPICAL_LYMPHOCYTE/LY_13103924.jpg',\n",
       " '/shared/Datasets_Classification/Classification_CanRuti/ATYPICAL_LYMPHOCYTE/LY_13103770.jpg',\n",
       " '/shared/Datasets_Classification/Classification_CanRuti/ATYPICAL_LYMPHOCYTE/LY_13166949.jpg',\n",
       " '/shared/Datasets_Classification/Classification_CanRuti/ATYPICAL_LYMPHOCYTE/LY_13103948.jpg',\n",
       " '/shared/Datasets_Classification/Classification_CanRuti/ATYPICAL_LYMPHOCYTE/LY_13089457.jpg',\n",
       " '/shared/Datasets_Classification/Classification_CanRuti/ATYPICAL_LYMPHOCYTE/LY_13103794.jpg',\n",
       " '/shared/Datasets_Classification/Classification_CanRuti/ATYPICAL_LYMPHOCYTE/LY_13103742.jpg',\n",
       " '/shared/Datasets_Classification/Classification_CanRuti/ATYPICAL_LYMPHOCYTE/LY_13166703.jpg',\n",
       " '/shared/Datasets_Classification/Classification_CanRuti/ATYPICAL_LYMPHOCYTE/LY_13103779.jpg',\n",
       " '/shared/Datasets_Classification/Classification_CanRuti/ATYPICAL_LYMPHOCYTE/LY_13103958.jpg',\n",
       " '/shared/Datasets_Classification/Classification_CanRuti/ATYPICAL_LYMPHOCYTE/LY_13089412.jpg',\n",
       " '/shared/Datasets_Classification/Classification_CanRuti/ATYPICAL_LYMPHOCYTE/LY_13089374.jpg',\n",
       " '/shared/Datasets_Classification/Classification_CanRuti/ATYPICAL_LYMPHOCYTE/LY_13089434.jpg',\n",
       " '/shared/Datasets_Classification/Classification_CanRuti/ATYPICAL_LYMPHOCYTE/LY_13166802.jpg',\n",
       " '/shared/Datasets_Classification/Classification_CanRuti/ATYPICAL_LYMPHOCYTE/LY_13103907.jpg']"
      ]
     },
     "execution_count": 64,
     "metadata": {},
     "output_type": "execute_result"
    }
   ],
   "source": [
    "imgs_CanRuti"
   ]
  },
  {
   "cell_type": "code",
   "execution_count": null,
   "metadata": {},
   "outputs": [],
   "source": []
  }
 ],
 "metadata": {
  "kernelspec": {
   "display_name": "Python 3",
   "language": "python",
   "name": "python3"
  },
  "language_info": {
   "codemirror_mode": {
    "name": "ipython",
    "version": 3
   },
   "file_extension": ".py",
   "mimetype": "text/x-python",
   "name": "python",
   "nbconvert_exporter": "python",
   "pygments_lexer": "ipython3",
   "version": "3.6.8"
  }
 },
 "nbformat": 4,
 "nbformat_minor": 2
}
