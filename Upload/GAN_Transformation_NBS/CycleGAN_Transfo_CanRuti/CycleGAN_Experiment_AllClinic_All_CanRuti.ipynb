{
 "cells": [
  {
   "cell_type": "code",
   "execution_count": 8,
   "metadata": {},
   "outputs": [],
   "source": [
    "import fastai\n",
    "import torch\n",
    "from fastai.vision import *\n",
    "from shutil import copyfile\n",
    "import random\n"
   ]
  },
  {
   "cell_type": "code",
   "execution_count": null,
   "metadata": {},
   "outputs": [],
   "source": [
    "imgs_CanRuti = []\n",
    "imgs_Clinic = []\n",
    "\n",
    "def print_dirs_recursively(root_dir,Parameter):\n",
    "    root_dir = os.path.abspath(root_dir)\n",
    "\n",
    "    for item in os.listdir(root_dir):\n",
    "        item_full_path = os.path.join(root_dir, item)\n",
    "        if os.path.isdir(item_full_path):\n",
    "            print_dirs_recursively(item_full_path, Parameter)\n",
    "        else:\n",
    "            if '.pth' not in item_full_path:\n",
    "                if Parameter == 'A':\n",
    "                    imgs_CanRuti.append(item_full_path)\n",
    "                if Parameter == 'B':\n",
    "                    imgs_Clinic.append(item_full_path)\n",
    "\n",
    "print_dirs_recursively('/shared/Classification_CanRuti', 'A')\n",
    "print_dirs_recursively('/shared/Classification_Clinic', 'B')"
   ]
  },
  {
   "cell_type": "code",
   "execution_count": 3,
   "metadata": {},
   "outputs": [],
   "source": [
    "def img_copy(lst, train_size, Parameter):\n",
    "    count = 0\n",
    "    for path in lst:\n",
    "        filename = os.path.basename(path)\n",
    "        if count < train_size:\n",
    "            if Parameter == 'A':\n",
    "                copyfile(path, os.path.join(\"/shared/CanRuti_Clinic-cycGan/trainA\", filename))  \n",
    "            if Parameter == 'B':\n",
    "                copyfile(path, os.path.join(\"/shared/CanRuti_Clinic-cycGan/trainB\", filename))\n",
    "\n",
    "            count += 1\n",
    "        \n",
    "        if count >= train_size:\n",
    "            if Parameter == 'A':\n",
    "                copyfile(path, os.path.join(\"/shared/CanRuti_Clinic-cycGan/testA\", filename))  \n",
    "            if Parameter == 'B':\n",
    "                copyfile(path, os.path.join(\"/shared/CanRuti_Clinic-cycGan/testB\", filename))\n",
    "            count += 1 \n",
    "      "
   ]
  },
  {
   "cell_type": "code",
   "execution_count": null,
   "metadata": {},
   "outputs": [],
   "source": []
  },
  {
   "cell_type": "code",
   "execution_count": 7,
   "metadata": {},
   "outputs": [],
   "source": [
    "img_copy(imgs_Clinic, 150, 'A')"
   ]
  },
  {
   "cell_type": "code",
   "execution_count": 12,
   "metadata": {
    "scrolled": true
   },
   "outputs": [],
   "source": [
    "imgs_Clinic = [img for img in imgs_Clinic if '/NORMAL_LYMPHOCYTE/' not in img] # quitamos los normales"
   ]
  },
  {
   "cell_type": "code",
   "execution_count": 14,
   "metadata": {},
   "outputs": [],
   "source": [
    "random.shuffle(imgs_Clinic)"
   ]
  },
  {
   "cell_type": "code",
   "execution_count": 20,
   "metadata": {},
   "outputs": [],
   "source": [
    "imgs_Clinic2 = imgs_Clinic[:300]"
   ]
  },
  {
   "cell_type": "code",
   "execution_count": 21,
   "metadata": {},
   "outputs": [
    {
     "data": {
      "text/plain": [
       "300"
      ]
     },
     "execution_count": 21,
     "metadata": {},
     "output_type": "execute_result"
    }
   ],
   "source": [
    "len(imgs_Clinic2)"
   ]
  },
  {
   "cell_type": "code",
   "execution_count": 24,
   "metadata": {},
   "outputs": [],
   "source": [
    "img_copy(imgs_Clinic2, 250, 'B')"
   ]
  },
  {
   "cell_type": "code",
   "execution_count": null,
   "metadata": {},
   "outputs": [],
   "source": []
  }
 ],
 "metadata": {
  "kernelspec": {
   "display_name": "Python 3",
   "language": "python",
   "name": "python3"
  },
  "language_info": {
   "codemirror_mode": {
    "name": "ipython",
    "version": 3
   },
   "file_extension": ".py",
   "mimetype": "text/x-python",
   "name": "python",
   "nbconvert_exporter": "python",
   "pygments_lexer": "ipython3",
   "version": "3.6.8"
  }
 },
 "nbformat": 4,
 "nbformat_minor": 2
}
