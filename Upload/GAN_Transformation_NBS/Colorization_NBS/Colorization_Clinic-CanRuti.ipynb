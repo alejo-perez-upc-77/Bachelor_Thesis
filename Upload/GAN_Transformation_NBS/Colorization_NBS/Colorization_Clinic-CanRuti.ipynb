{
 "cells": [
  {
   "cell_type": "code",
   "execution_count": 9,
   "metadata": {},
   "outputs": [
    {
     "name": "stdout",
     "output_type": "stream",
     "text": [
      "Populating the interactive namespace from numpy and matplotlib\n"
     ]
    }
   ],
   "source": [
    "import fastai\n",
    "import torch\n",
    "import os\n",
    "from fastai.vision import *\n",
    "from shutil import copyfile\n",
    "import random\n",
    "from distutils.dir_util import copy_tree\n",
    "from shutil import move\n",
    "%pylab inline\n",
    "import matplotlib.pyplot as plt\n",
    "import matplotlib.image as mpimg\n",
    "plt.rcParams.update({'font.size': 16})"
   ]
  },
  {
   "cell_type": "code",
   "execution_count": 2,
   "metadata": {},
   "outputs": [
    {
     "data": {
      "text/plain": [
       "'/shared/Clinic-NormLinfo_Variant-cycGan/trainA/LY_3777573.jpg'"
      ]
     },
     "execution_count": 2,
     "metadata": {},
     "output_type": "execute_result"
    }
   ],
   "source": [
    "imgs_A = os.listdir('/shared/Datasets_Classification/Classification_Clinic/NORMAL_LYMPHOCYTE')\n",
    "random.shuffle(imgs_A)\n",
    "os.path.join(\"/shared/Clinic-NormLinfo_Variant-cycGan/trainA\", imgs_A[0])"
   ]
  },
  {
   "cell_type": "code",
   "execution_count": 3,
   "metadata": {},
   "outputs": [
    {
     "data": {
      "text/html": [
       "<div>\n",
       "<style scoped>\n",
       "    .dataframe tbody tr th:only-of-type {\n",
       "        vertical-align: middle;\n",
       "    }\n",
       "\n",
       "    .dataframe tbody tr th {\n",
       "        vertical-align: top;\n",
       "    }\n",
       "\n",
       "    .dataframe thead th {\n",
       "        text-align: right;\n",
       "    }\n",
       "</style>\n",
       "<table border=\"1\" class=\"dataframe\">\n",
       "  <thead>\n",
       "    <tr style=\"text-align: right;\">\n",
       "      <th></th>\n",
       "      <th>Conjunto Clinic (Train)</th>\n",
       "      <th>Conjunto Can Ruti (Train)</th>\n",
       "    </tr>\n",
       "  </thead>\n",
       "  <tbody>\n",
       "    <tr>\n",
       "      <th>ColorizationGAN (Normal Lymphocyte en Clínic)</th>\n",
       "      <td>1086</td>\n",
       "      <td>184</td>\n",
       "    </tr>\n",
       "    <tr>\n",
       "      <th>CycleGAN (Atypical + Blast+ Variant en Clínic)</th>\n",
       "      <td>3000</td>\n",
       "      <td>184</td>\n",
       "    </tr>\n",
       "  </tbody>\n",
       "</table>\n",
       "</div>"
      ],
      "text/plain": [
       "                                                Conjunto Clinic (Train)  \\\n",
       "ColorizationGAN (Normal Lymphocyte en Clínic)                      1086   \n",
       "CycleGAN (Atypical + Blast+ Variant en Clínic)                     3000   \n",
       "\n",
       "                                                Conjunto Can Ruti (Train)  \n",
       "ColorizationGAN (Normal Lymphocyte en Clínic)                         184  \n",
       "CycleGAN (Atypical + Blast+ Variant en Clínic)                        184  "
      ]
     },
     "execution_count": 3,
     "metadata": {},
     "output_type": "execute_result"
    }
   ],
   "source": [
    "df_Dataset_GAN = pd.DataFrame.from_dict(({'Conjunto Clinic (Train)': [1086,3000],\n",
    "'Conjunto Can Ruti (Train)': [184,184],\n",
    "})).rename({0:'ColorizationGAN (Normal Lymphocyte en Clínic)', 1:'CycleGAN (Atypical + Blast+ Variant en Clínic)'})\n",
    "df_Dataset_GAN"
   ]
  },
  {
   "cell_type": "code",
   "execution_count": 10,
   "metadata": {},
   "outputs": [
    {
     "data": {
      "image/png": "[encoded data removed]",
      "text/plain": [
       "<Figure size 1080x720 with 1 Axes>"
      ]
     },
     "metadata": {
      "needs_background": "light"
     },
     "output_type": "display_data"
    }
   ],
   "source": [
    "df_Dataset_GAN.plot.bar(figsize=(15,10), rot='0');"
   ]
  },
  {
   "cell_type": "code",
   "execution_count": 2,
   "metadata": {},
   "outputs": [],
   "source": [
    "#count = 0\n",
    "#for img in imgs_A:\n",
    "#    source = os.path.join(\"/shared/Classification_Clinic/NORMAL_LYMPHOCYTE\", img)\n",
    "#    if '.jpg' in img:\n",
    "#        #if count < 800:\n",
    "#        target = os.path.join(\"/shared/Colorization_Clinic_CanRuti/train\", img)\n",
    "#        copyfile(source, target)\n",
    "#        #else: \n",
    "#        #    target = os.path.join(\"/shared/Colorization_Clinic-CanRuti/testA\", img)\n",
    "#        #    copyfile(source, target)\n",
    "#    count += 1\n",
    "#\n"
   ]
  },
  {
   "cell_type": "code",
   "execution_count": 3,
   "metadata": {},
   "outputs": [],
   "source": [
    "dic = {\n",
    "      'ATYPICAL_LYMPHOCYTE':[],\n",
    "      'VARIANT_LYMPHOCYTE':[],\n",
    "      'BLAST':[]\n",
    "     }"
   ]
  },
  {
   "cell_type": "code",
   "execution_count": 4,
   "metadata": {},
   "outputs": [],
   "source": [
    "\n",
    "def print_dirs_recursively(root_dir):\n",
    "    root_dir = os.path.abspath(root_dir)\n",
    "\n",
    "    for item in os.listdir(root_dir):\n",
    "        item_full_path = os.path.join(root_dir, item)\n",
    "        if os.path.isdir(item_full_path):\n",
    "            print_dirs_recursively(item_full_path)\n",
    "        else: \n",
    "            if '/SLPC/' in item_full_path:\n",
    "                dic['ATYPICAL_LYMPHOCYTE'].append(item_full_path)\n",
    "            if '/REACTIUS/' in item_full_path:\n",
    "                dic['VARIANT_LYMPHOCYTE'].append(item_full_path)\n",
    "            if '/LA/' in item_full_path:\n",
    "                dic['BLAST'].append(item_full_path)\n",
    "\n",
    "print_dirs_recursively('/shared/can_ruti')"
   ]
  },
  {
   "cell_type": "code",
   "execution_count": 19,
   "metadata": {},
   "outputs": [],
   "source": [
    "#for item in imgs_B:\n",
    "#    if 'jpg' in item:\n",
    "#        filename = os.path.basename(item)\n",
    "#        copyfile(item, os.path.join(\"/shared/Colorization_Clinic_CanRuti/test\", filename))\n",
    "#\n",
    "#\n"
   ]
  },
  {
   "cell_type": "code",
   "execution_count": null,
   "metadata": {},
   "outputs": [],
   "source": []
  },
  {
   "cell_type": "code",
   "execution_count": 23,
   "metadata": {},
   "outputs": [],
   "source": [
    "folder_classes = \"/shared/Classification_CanRuti\"\n",
    "tfms = get_transforms(max_lighting=None, max_warp=None )"
   ]
  },
  {
   "cell_type": "code",
   "execution_count": null,
   "metadata": {},
   "outputs": [],
   "source": []
  }
 ],
 "metadata": {
  "kernelspec": {
   "display_name": "Python 3",
   "language": "python",
   "name": "python3"
  },
  "language_info": {
   "codemirror_mode": {
    "name": "ipython",
    "version": 3
   },
   "file_extension": ".py",
   "mimetype": "text/x-python",
   "name": "python",
   "nbconvert_exporter": "python",
   "pygments_lexer": "ipython3",
   "version": "3.6.8"
  }
 },
 "nbformat": 4,
 "nbformat_minor": 2
}
