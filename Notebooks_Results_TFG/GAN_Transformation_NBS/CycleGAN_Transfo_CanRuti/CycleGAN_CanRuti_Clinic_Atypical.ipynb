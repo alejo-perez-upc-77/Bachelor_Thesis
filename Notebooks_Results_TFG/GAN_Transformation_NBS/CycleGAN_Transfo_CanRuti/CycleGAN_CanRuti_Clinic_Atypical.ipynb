{
 "cells": [
  {
   "cell_type": "code",
   "execution_count": 1,
   "metadata": {},
   "outputs": [],
   "source": [
    "import fastai\n",
    "import torch\n",
    "from fastai.vision import *\n",
    "from shutil import copyfile\n",
    "import random\n"
   ]
  },
  {
   "cell_type": "code",
   "execution_count": 2,
   "metadata": {},
   "outputs": [],
   "source": [
    "imgs_CanRuti = []\n",
    "imgs_Clinic = []\n",
    "\n",
    "def catch_dirs_recursively(root_dir,Parameter):\n",
    "    root_dir = os.path.abspath(root_dir) # Coge el primer directorio\n",
    "\n",
    "    for item in os.listdir(root_dir): # lista los diferentes directorios de este\n",
    "        item_full_path = os.path.join(root_dir, item) # crea el formato apropiado para las nuevas rutas\n",
    "        if os.path.isdir(item_full_path): # si es una carpeta vuelve a utilizar la función de forma recursiva\n",
    "            catch_dirs_recursively(item_full_path, Parameter) \n",
    "        else: # Si se trata de una imagen se introduce en una de las dos listas, dependiendo si se ha \n",
    "              #introducido el parámetro A o B\n",
    "            if '.pth' not in item_full_path:\n",
    "                if Parameter == 'A':\n",
    "                    imgs_CanRuti.append(item_full_path) # se añade a la lista\n",
    "                if Parameter == 'B':\n",
    "                    imgs_Clinic.append(item_full_path) # se añade a la lista\n",
    "\n",
    "catch_dirs_recursively('/shared/Datasets_Classification/Classification_CanRuti', 'A')\n",
    "catch_dirs_recursively('/shared/Datasets_Classification/Classification_Clinic/train', 'B')"
   ]
  },
  {
   "cell_type": "code",
   "execution_count": 3,
   "metadata": {},
   "outputs": [
    {
     "data": {
      "text/plain": [
       "184"
      ]
     },
     "execution_count": 3,
     "metadata": {},
     "output_type": "execute_result"
    }
   ],
   "source": [
    "len(imgs_CanRuti)"
   ]
  },
  {
   "cell_type": "code",
   "execution_count": 4,
   "metadata": {},
   "outputs": [
    {
     "data": {
      "text/plain": [
       "5291"
      ]
     },
     "execution_count": 4,
     "metadata": {},
     "output_type": "execute_result"
    }
   ],
   "source": [
    "len(imgs_Clinic)"
   ]
  },
  {
   "cell_type": "code",
   "execution_count": 5,
   "metadata": {},
   "outputs": [],
   "source": [
    "CanRuti_Atypical = [i for i in imgs_CanRuti if '/ATYPICAL_LYMPHOCYTE/' in i ] \n",
    "Clinic_Atypical = [i for i in imgs_Clinic if '/ATYPICAL_LYMPHOCYTE/' in i ] "
   ]
  },
  {
   "cell_type": "code",
   "execution_count": 7,
   "metadata": {},
   "outputs": [
    {
     "data": {
      "text/plain": [
       "3499"
      ]
     },
     "execution_count": 7,
     "metadata": {},
     "output_type": "execute_result"
    }
   ],
   "source": [
    "len(Clinic_Atypical)"
   ]
  },
  {
   "cell_type": "code",
   "execution_count": 9,
   "metadata": {},
   "outputs": [
    {
     "data": {
      "text/plain": [
       "47"
      ]
     },
     "execution_count": 9,
     "metadata": {},
     "output_type": "execute_result"
    }
   ],
   "source": [
    "len(CanRuti_Atypical)"
   ]
  },
  {
   "cell_type": "code",
   "execution_count": 12,
   "metadata": {},
   "outputs": [],
   "source": [
    "random.shuffle(Clinic_Atypical)"
   ]
  },
  {
   "cell_type": "code",
   "execution_count": 29,
   "metadata": {},
   "outputs": [],
   "source": [
    "def img_copy(lst, train_size, Parameter):\n",
    "    count = 0\n",
    "    for path in lst:\n",
    "        filename = os.path.basename(path)\n",
    "        if count < train_size:\n",
    "            if Parameter == 'A':\n",
    "                copyfile(path, os.path.join(\"/shared/Datasets_Gan/CanRuti_Clinic-Atypical/trainA\", filename))  \n",
    "            if Parameter == 'B':\n",
    "                copyfile(path, os.path.join(\"/shared/Datasets_Gan/CanRuti_Clinic-Atypical/trainB\", filename))\n",
    "\n",
    "            count += 1\n",
    "        \n",
    "        else:\n",
    "            if Parameter == 'A':\n",
    "                copyfile(path, os.path.join(\"/shared/Datasets_Gan/CanRuti_Clinic-Atypical/testA\", filename))  \n",
    "            if Parameter == 'B':\n",
    "                copyfile(path, os.path.join(\"/shared/Datasets_Gan/CanRuti_Clinic-Atypical/testB\", filename))\n",
    "            count += 1 \n",
    "      "
   ]
  },
  {
   "cell_type": "code",
   "execution_count": 30,
   "metadata": {},
   "outputs": [],
   "source": [
    "img_copy(CanRuti_Atypical, 500, 'A')"
   ]
  },
  {
   "cell_type": "code",
   "execution_count": 22,
   "metadata": {},
   "outputs": [],
   "source": [
    "img_copy(Clinic_Atypical, 2800, 'B')"
   ]
  },
  {
   "cell_type": "code",
   "execution_count": 24,
   "metadata": {},
   "outputs": [],
   "source": [
    "train_clinic = os.listdir(\"/shared/Datasets_Gan/CanRuti_Clinic-Atypical/trainB\")\n",
    "test_clinic = os.listdir('/shared/Datasets_Gan/CanRuti_Clinic-Atypical/testB')"
   ]
  },
  {
   "cell_type": "code",
   "execution_count": 26,
   "metadata": {},
   "outputs": [
    {
     "data": {
      "text/plain": [
       "2800"
      ]
     },
     "execution_count": 26,
     "metadata": {},
     "output_type": "execute_result"
    }
   ],
   "source": [
    "len(train_clinic)"
   ]
  },
  {
   "cell_type": "code",
   "execution_count": 25,
   "metadata": {},
   "outputs": [
    {
     "data": {
      "text/plain": [
       "699"
      ]
     },
     "execution_count": 25,
     "metadata": {},
     "output_type": "execute_result"
    }
   ],
   "source": [
    "len(test_clinic)"
   ]
  },
  {
   "cell_type": "code",
   "execution_count": null,
   "metadata": {},
   "outputs": [],
   "source": []
  }
 ],
 "metadata": {
  "kernelspec": {
   "display_name": "Python 3",
   "language": "python",
   "name": "python3"
  },
  "language_info": {
   "codemirror_mode": {
    "name": "ipython",
    "version": 3
   },
   "file_extension": ".py",
   "mimetype": "text/x-python",
   "name": "python",
   "nbconvert_exporter": "python",
   "pygments_lexer": "ipython3",
   "version": "3.6.8"
  }
 },
 "nbformat": 4,
 "nbformat_minor": 2
}
