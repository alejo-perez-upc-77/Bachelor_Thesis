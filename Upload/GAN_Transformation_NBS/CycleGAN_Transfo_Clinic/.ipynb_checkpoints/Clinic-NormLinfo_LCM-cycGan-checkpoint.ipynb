{
 "cells": [
  {
   "cell_type": "code",
   "execution_count": 42,
   "metadata": {},
   "outputs": [
    {
     "name": "stdout",
     "output_type": "stream",
     "text": [
      "Populating the interactive namespace from numpy and matplotlib\n"
     ]
    }
   ],
   "source": [
    "import fastai\n",
    "import torch\n",
    "from fastai.vision import *\n",
    "from shutil import copyfile\n",
    "import os\n",
    "import re\n",
    "\n",
    "%pylab inline\n",
    "import matplotlib.pyplot as plt\n"
   ]
  },
  {
   "cell_type": "code",
   "execution_count": 66,
   "metadata": {},
   "outputs": [],
   "source": [
    "dic = {'NORMAL_LYMPHOCYTE':[],\n",
    "      'ATYPICAL_LYMPHOCYTE':[],\n",
    "      'VARIANT_LYMPHOCYTE':[],\n",
    "      'BLAST':[]\n",
    "     }"
   ]
  },
  {
   "cell_type": "code",
   "execution_count": 114,
   "metadata": {
    "scrolled": false
   },
   "outputs": [],
   "source": [
    "\n",
    "def print_dirs_recursively(root_dir):\n",
    "    root_dir = os.path.abspath(root_dir)\n",
    "\n",
    "    for item in os.listdir(root_dir):\n",
    "        item_full_path = os.path.join(root_dir, item)\n",
    "        if os.path.isdir(item_full_path):\n",
    "            print_dirs_recursively(item_full_path)\n",
    "        else: \n",
    "            if '/Linfos_normales/' in item_full_path:\n",
    "                dic['NORMAL_LYMPHOCYTE'].append(item_full_path)\n",
    "            if '/ATYPICAL_LYMPHOCYTE/' in item_full_path:\n",
    "                dic['ATYPICAL_LYMPHOCYTE'].append(item_full_path)\n",
    "            if '/VARIANT_LYMPHOCYTE/' in item_full_path:\n",
    "                dic['VARIANT_LYMPHOCYTE'].append(item_full_path)\n",
    "            if '/BLAST/' in item_full_path:\n",
    "                dic['BLAST'].append(item_full_path)\n",
    "                \n",
    "    dic['NORMAL_LYMPHOCYTE'] = list(set(dic['NORMAL_LYMPHOCYTE']))\n",
    "    dic['ATYPICAL_LYMPHOCYTE'] = list(set(dic['ATYPICAL_LYMPHOCYTE']))\n",
    "    dic['VARIANT_LYMPHOCYTE'] = list(set(dic['VARIANT_LYMPHOCYTE']))\n",
    "    dic['BLAST'] = list(set(dic['BLAST']))\n",
    "                       \n",
    "print_dirs_recursively('/shared/Clinic')"
   ]
  },
  {
   "cell_type": "code",
   "execution_count": 119,
   "metadata": {},
   "outputs": [],
   "source": [
    "LCM_INDOLENTE = ([i for i in dic['ATYPICAL_LYMPHOCYTE'] if '/LCM/' in i])\n",
    "LCM_INDOLENTE = ([i for i in LCM_INDOLENTE if ('/BL_' or '/VLY_' or '/HC_')  not in  i])\n",
    "\n",
    "\n",
    "\n",
    "\n",
    "\n"
   ]
  },
  {
   "cell_type": "code",
   "execution_count": 120,
   "metadata": {},
   "outputs": [],
   "source": [
    "def catcher(x): return re.findall('/([a-zA-Z]+)_+[\\d]', x)[0]"
   ]
  },
  {
   "cell_type": "code",
   "execution_count": 121,
   "metadata": {},
   "outputs": [],
   "source": [
    "typ = {}\n",
    "for path in LCM_INDOLENTE:\n",
    "    if catcher(path) in typ:\n",
    "        typ[catcher(path)] += 1\n",
    "    else: \n",
    "        typ[catcher(path)] = 1\n",
    "        "
   ]
  },
  {
   "cell_type": "code",
   "execution_count": 122,
   "metadata": {},
   "outputs": [
    {
     "data": {
      "text/plain": [
       "{'OTH': 1055, 'LY': 121, 'MO': 3, 'SMU': 1, 'BA': 1}"
      ]
     },
     "execution_count": 122,
     "metadata": {},
     "output_type": "execute_result"
    }
   ],
   "source": [
    "typ"
   ]
  },
  {
   "cell_type": "code",
   "execution_count": 123,
   "metadata": {
    "scrolled": true
   },
   "outputs": [],
   "source": [
    "imgs_A = os.listdir('/shared/Classification_Clinic/NORMAL_LYMPHOCYTE')\n",
    "random.shuffle(imgs_A)\n",
    "imgs_B = LCM_INDOLENTE\n",
    "random.shuffle(imgs_B)\n",
    "\n",
    "count = 0\n",
    "for img in imgs_B:\n",
    "            \n",
    "    source = img\n",
    "\n",
    "    if count < 800:\n",
    "        target = os.path.join(\"/shared/Clinic-NormLinfo_LCM-cycGan/trainB\", os.path.basename(img))\n",
    "        copyfile(source, target)\n",
    "    else: \n",
    "        target = os.path.join(\"/shared/Clinic-NormLinfo_LCM-cycGan/testB\", os.path.basename(img))\n",
    "        copyfile(source, target)\n",
    "    count += 1"
   ]
  },
  {
   "cell_type": "code",
   "execution_count": 100,
   "metadata": {},
   "outputs": [],
   "source": [
    "count = 0\n",
    "for img in imgs_A:\n",
    "    source = os.path.join(\"/shared/Classification_Clinic/NORMAL_LYMPHOCYTE\", img)\n",
    "    if '.jpg' in img:\n",
    "        if count < 800:\n",
    "            target = os.path.join(\"/shared/Clinic-NormLinfo_LCM_INDOLENTE-cycGan/trainA\", img)\n",
    "            copyfile(source, target)\n",
    "        else: \n",
    "            target = os.path.join(\"/shared/Clinic-NormLinfo_LCM_INDOLENTE-cycGan/testA\", img)\n",
    "            copyfile(source, target)\n",
    "    count += 1\n",
    "\n",
    "\n"
   ]
  },
  {
   "cell_type": "code",
   "execution_count": 112,
   "metadata": {},
   "outputs": [
    {
     "data": {
      "text/plain": [
       "'/shared/Clinic-NormLinfo_LCM_INDOLENTE-cycGan/trainB/LY_7332995.jpg'"
      ]
     },
     "execution_count": 112,
     "metadata": {},
     "output_type": "execute_result"
    }
   ],
   "source": [
    "os.path.join(\"/shared/Clinic-NormLinfo_LCM_INDOLENTE-cycGan/trainB\",os.path.basename(([i for i in imgs_B if 'LCM_INDOLENTE' in i][0])))"
   ]
  },
  {
   "cell_type": "code",
   "execution_count": 113,
   "metadata": {},
   "outputs": [
    {
     "data": {
      "text/plain": [
       "['/shared/Clinic/Lymphomas/LCM/LCM_INDOLENTE/360/07092015/ATYPICAL_LYMPHOCYTE/LY_1415307.jpg',\n",
       " '/shared/Clinic/Lymphomas/LCM/LCM_INDOLENTE/360/07092015/ATYPICAL_LYMPHOCYTE/LY_1415307.jpg']"
      ]
     },
     "execution_count": 113,
     "metadata": {},
     "output_type": "execute_result"
    }
   ],
   "source": [
    "[i for i in imgs_B if 'LY_1415307.jpg' in i]"
   ]
  },
  {
   "cell_type": "code",
   "execution_count": null,
   "metadata": {},
   "outputs": [],
   "source": []
  }
 ],
 "metadata": {
  "kernelspec": {
   "display_name": "Python 3",
   "language": "python",
   "name": "python3"
  },
  "language_info": {
   "codemirror_mode": {
    "name": "ipython",
    "version": 3
   },
   "file_extension": ".py",
   "mimetype": "text/x-python",
   "name": "python",
   "nbconvert_exporter": "python",
   "pygments_lexer": "ipython3",
   "version": "3.6.8"
  }
 },
 "nbformat": 4,
 "nbformat_minor": 2
}
