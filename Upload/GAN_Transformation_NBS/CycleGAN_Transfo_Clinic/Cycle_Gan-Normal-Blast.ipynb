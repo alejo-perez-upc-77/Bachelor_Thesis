{
 "cells": [
  {
   "cell_type": "code",
   "execution_count": 2,
   "metadata": {},
   "outputs": [],
   "source": [
    "import fastai\n",
    "import torch\n",
    "from fastai.vision import *\n",
    "from shutil import copyfile\n",
    "import random\n",
    "from distutils.dir_util import copy_tree\n",
    "from shutil import move"
   ]
  },
  {
   "cell_type": "code",
   "execution_count": null,
   "metadata": {},
   "outputs": [],
   "source": [
    "import os\n",
    "dic = {'NORMAL_LYMPHOCYTE':[],\n",
    "      'ATYPICAL_LYMPHOCYTE':[],\n",
    "      'VARIANT_LYMPHOCYTE':[],\n",
    "      'BLAST':[]\n",
    "     }\n",
    "def print_dirs_recursively(root_dir):\n",
    "    root_dir = os.path.abspath(root_dir)\n",
    "\n",
    "    for item in os.listdir(root_dir):\n",
    "        item_full_path = os.path.join(root_dir, item)\n",
    "        if os.path.isdir(item_full_path):\n",
    "            print_dirs_recursively(item_full_path)\n",
    "        else: \n",
    "            if '/Linfos_normales/' in item_full_path:\n",
    "                dic['NORMAL_LYMPHOCYTE'].append(item_full_path)\n",
    "            if '/ATYPICAL_LYMPHOCYTE/' in item_full_path:\n",
    "                dic['ATYPICAL_LYMPHOCYTE'].append(item_full_path)\n",
    "            if '/VARIANT_LYMPHOCYTE/' in item_full_path:\n",
    "                dic['VARIANT_LYMPHOCYTE'].append(item_full_path)\n",
    "            if '/BLAST/' in item_full_path:\n",
    "                dic['BLAST'].append(item_full_path)\n",
    "\n",
    "print_dirs_recursively('/shared/Clinic')\n",
    "\n",
    "\n",
    "\n",
    "\n"
   ]
  },
  {
   "cell_type": "code",
   "execution_count": 32,
   "metadata": {},
   "outputs": [],
   "source": [
    "imgs_A = os.listdir('/shared/Clinic-NormLinfo_Blast-cycGan/testA')\n",
    "random.shuffle(imgs_A)\n",
    "imgs_B = os.listdir('/shared/Clinic-NormLinfo_Blast-cycGan/testB')\n",
    "random.shuffle(imgs_B)\n",
    "\n"
   ]
  },
  {
   "cell_type": "code",
   "execution_count": 33,
   "metadata": {},
   "outputs": [],
   "source": [
    "count = 0\n",
    "for img in imgs_A:\n",
    "    source = os.path.join(\"/shared/Clinic-NormLinfo_Blast-cycGan/testA\", img)\n",
    "    target = os.path.join(\"/shared/Clinic-NormLinfo_Blast-cycGan/trainA\", img)\n",
    "    move(source, target)\n",
    "    if count == 800: break\n",
    "    count += 1\n",
    "\n",
    "count = 0\n",
    "for img in imgs_B:\n",
    "    source = os.path.join(\"/shared/Clinic-NormLinfo_Blast-cycGan/testB\", img)\n",
    "    target = os.path.join(\"/shared/Clinic-NormLinfo_Blast-cycGan/trainB\", img)\n",
    "    move(source, target)\n",
    "    if count == 850: break\n",
    "    count += 1\n",
    "\n"
   ]
  },
  {
   "cell_type": "code",
   "execution_count": 11,
   "metadata": {},
   "outputs": [],
   "source": [
    "imgs_A = os.listdir('/shared/Classification_Clinic/NORMAL_LYMPHOCYTE')\n",
    "random.shuffle(imgs_A)\n"
   ]
  },
  {
   "cell_type": "code",
   "execution_count": 13,
   "metadata": {},
   "outputs": [
    {
     "data": {
      "text/plain": [
       "'/shared/Clinic-NormLinfo_Variant-cycGan/trainA/VLY_4241084.jpg'"
      ]
     },
     "execution_count": 13,
     "metadata": {},
     "output_type": "execute_result"
    }
   ],
   "source": [
    "os.path.join(\"/shared/Clinic-NormLinfo_Variant-cycGan/trainA\", imgs_B[0])"
   ]
  },
  {
   "cell_type": "code",
   "execution_count": 16,
   "metadata": {},
   "outputs": [],
   "source": [
    "count = 0\n",
    "for img in imgs_A:\n",
    "    source = os.path.join(\"/shared/Classification_Clinic/NORMAL_LYMPHOCYTE\", img)\n",
    "    if '.jpg' in img:\n",
    "        if count < 800:\n",
    "            target = os.path.join(\"/shared/Clinic-NormLinfo_OTH-cycGan/trainA\", img)\n",
    "            copyfile(source, target)\n",
    "        else: \n",
    "            target = os.path.join(\"/shared/Clinic-NormLinfo_OTH-cycGan/testA\", img)\n",
    "            copyfile(source, target)\n",
    "    count += 1\n",
    "\n"
   ]
  }
 ],
 "metadata": {
  "kernelspec": {
   "display_name": "Python 3",
   "language": "python",
   "name": "python3"
  },
  "language_info": {
   "codemirror_mode": {
    "name": "ipython",
    "version": 3
   },
   "file_extension": ".py",
   "mimetype": "text/x-python",
   "name": "python",
   "nbconvert_exporter": "python",
   "pygments_lexer": "ipython3",
   "version": "3.6.8"
  }
 },
 "nbformat": 4,
 "nbformat_minor": 2
}
