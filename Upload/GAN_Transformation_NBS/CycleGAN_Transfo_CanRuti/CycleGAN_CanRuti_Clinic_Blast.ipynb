{
 "cells": [
  {
   "cell_type": "code",
   "execution_count": 1,
   "metadata": {},
   "outputs": [],
   "source": [
    "import fastai\n",
    "import torch\n",
    "from fastai.vision import *\n",
    "from shutil import copyfile\n",
    "import random\n"
   ]
  },
  {
   "cell_type": "code",
   "execution_count": 2,
   "metadata": {},
   "outputs": [],
   "source": [
    "imgs_CanRuti = []\n",
    "imgs_Clinic = []\n",
    "\n",
    "def catch_dirs_recursively(root_dir,Parameter):\n",
    "    root_dir = os.path.abspath(root_dir)\n",
    "\n",
    "    for item in os.listdir(root_dir):\n",
    "        item_full_path = os.path.join(root_dir, item)\n",
    "        if os.path.isdir(item_full_path):\n",
    "            catch_dirs_recursively(item_full_path, Parameter)\n",
    "        else:\n",
    "            if '.pth' not in item_full_path:\n",
    "                if Parameter == 'A':\n",
    "                    imgs_CanRuti.append(item_full_path)\n",
    "                if Parameter == 'B':\n",
    "                    imgs_Clinic.append(item_full_path)\n",
    "\n",
    "catch_dirs_recursively('/shared/Datasets_Classification/Classification_CanRuti', 'A')\n",
    "catch_dirs_recursively('/shared/Datasets_Classification/Classification_Clinic/train', 'B')"
   ]
  },
  {
   "cell_type": "code",
   "execution_count": 3,
   "metadata": {},
   "outputs": [
    {
     "data": {
      "text/plain": [
       "184"
      ]
     },
     "execution_count": 3,
     "metadata": {},
     "output_type": "execute_result"
    }
   ],
   "source": [
    "len(imgs_CanRuti)"
   ]
  },
  {
   "cell_type": "code",
   "execution_count": 4,
   "metadata": {},
   "outputs": [
    {
     "data": {
      "text/plain": [
       "5291"
      ]
     },
     "execution_count": 4,
     "metadata": {},
     "output_type": "execute_result"
    }
   ],
   "source": [
    "len(imgs_Clinic)"
   ]
  },
  {
   "cell_type": "code",
   "execution_count": 8,
   "metadata": {},
   "outputs": [],
   "source": [
    "CanRuti_BLAST = [i for i in imgs_CanRuti if '/BLAST/' in i ] \n",
    "Clinic_BLAST = [i for i in imgs_Clinic if '/BLAST/' in i ] "
   ]
  },
  {
   "cell_type": "code",
   "execution_count": 9,
   "metadata": {},
   "outputs": [
    {
     "data": {
      "text/plain": [
       "80"
      ]
     },
     "execution_count": 9,
     "metadata": {},
     "output_type": "execute_result"
    }
   ],
   "source": [
    "len(CanRuti_BLAST)"
   ]
  },
  {
   "cell_type": "code",
   "execution_count": 27,
   "metadata": {},
   "outputs": [
    {
     "data": {
      "text/plain": [
       "1240"
      ]
     },
     "execution_count": 27,
     "metadata": {},
     "output_type": "execute_result"
    }
   ],
   "source": [
    "len(Clinic_BLAST)"
   ]
  },
  {
   "cell_type": "code",
   "execution_count": 11,
   "metadata": {},
   "outputs": [],
   "source": [
    "random.shuffle(Clinic_BLAST)"
   ]
  },
  {
   "cell_type": "code",
   "execution_count": 25,
   "metadata": {},
   "outputs": [],
   "source": [
    "def img_copy(lst, train_size, Parameter):\n",
    "    count = 0\n",
    "    for path in lst:\n",
    "        filename = os.path.basename(path)\n",
    "        if count < train_size:\n",
    "            if Parameter == 'A':\n",
    "                copyfile(path, os.path.join(\"/shared/Datasets_Gan/CanRuti_Clinic-Blast/trainA\", filename))  \n",
    "            if Parameter == 'B':\n",
    "                copyfile(path, os.path.join(\"/shared/Datasets_Gan/CanRuti_Clinic-Blast/trainB\", filename))\n",
    "\n",
    "            count += 1\n",
    "        \n",
    "        else:\n",
    "            if Parameter == 'A':\n",
    "                copyfile(path, os.path.join(\"/shared/Datasets_Gan/CanRuti_Clinic-Blast/testA\", filename))  \n",
    "            if Parameter == 'B':\n",
    "                copyfile(path, os.path.join(\"/shared/Datasets_Gan/CanRuti_Clinic-Blast/testB\", filename))\n",
    "            count += 1 \n",
    "      "
   ]
  },
  {
   "cell_type": "code",
   "execution_count": 15,
   "metadata": {},
   "outputs": [],
   "source": [
    "img_copy(CanRuti_BLAST, 500, 'A')"
   ]
  },
  {
   "cell_type": "code",
   "execution_count": 26,
   "metadata": {},
   "outputs": [],
   "source": [
    "img_copy(Clinic_BLAST, 900, 'B')"
   ]
  },
  {
   "cell_type": "code",
   "execution_count": 20,
   "metadata": {},
   "outputs": [],
   "source": [
    "train_clinic = os.listdir(\"/shared/Datasets_Gan/CanRuti_Clinic-Blast/trainB\")\n",
    "test_clinic = os.listdir('/shared/Datasets_Gan/CanRuti_Clinic-Blast/testB')"
   ]
  },
  {
   "cell_type": "code",
   "execution_count": 21,
   "metadata": {},
   "outputs": [
    {
     "data": {
      "text/plain": [
       "395"
      ]
     },
     "execution_count": 21,
     "metadata": {},
     "output_type": "execute_result"
    }
   ],
   "source": [
    "len(train_clinic)"
   ]
  },
  {
   "cell_type": "code",
   "execution_count": 22,
   "metadata": {},
   "outputs": [
    {
     "data": {
      "text/plain": [
       "845"
      ]
     },
     "execution_count": 22,
     "metadata": {},
     "output_type": "execute_result"
    }
   ],
   "source": [
    "len(test_clinic)"
   ]
  },
  {
   "cell_type": "code",
   "execution_count": null,
   "metadata": {},
   "outputs": [],
   "source": []
  }
 ],
 "metadata": {
  "kernelspec": {
   "display_name": "Python 3",
   "language": "python",
   "name": "python3"
  },
  "language_info": {
   "codemirror_mode": {
    "name": "ipython",
    "version": 3
   },
   "file_extension": ".py",
   "mimetype": "text/x-python",
   "name": "python",
   "nbconvert_exporter": "python",
   "pygments_lexer": "ipython3",
   "version": "3.6.8"
  }
 },
 "nbformat": 4,
 "nbformat_minor": 2
}
